{
 "cells": [
  {
   "cell_type": "markdown",
   "metadata": {},
   "source": [
    "# Kata3"
   ]
  },
  {
   "cell_type": "code",
   "execution_count": 8,
   "metadata": {},
   "outputs": [
    {
     "name": "stdout",
     "output_type": "stream",
     "text": [
      "Cuidado! Hay un asteroide que se acerca rapido\n"
     ]
    }
   ],
   "source": [
    "asteroide = 26\n",
    "if asteroide > 25:\n",
    "    print('Cuidado! Hay un asteroide que se acerca rapido')\n",
    "else:\n",
    "    print('Todo bien por aca!')"
   ]
  },
  {
   "cell_type": "code",
   "execution_count": 9,
   "metadata": {},
   "outputs": [
    {
     "name": "stdout",
     "output_type": "stream",
     "text": [
      "Mira al cielo y pide un deseo\n"
     ]
    }
   ],
   "source": [
    "asteroide = 21\n",
    "if asteroide > 20:\n",
    "    print('Mira al cielo y pide un deseo')\n",
    "elif asteroide == 20:\n",
    "    print('Mira al cielo y pide un deseo')\n",
    "else:\n",
    "    print('No hay novedad')"
   ]
  },
  {
   "cell_type": "code",
   "execution_count": 10,
   "metadata": {},
   "outputs": [
    {
     "name": "stdout",
     "output_type": "stream",
     "text": [
      "¡Alerta, asteroide peligroso viene hacia la Tierra!\n"
     ]
    }
   ],
   "source": [
    "vel_asteroide = 35\n",
    "t_asteroide = 30\n",
    "if vel_asteroide > 25 and t_asteroide > 25:\n",
    "    print('¡Alerta, asteroide peligroso viene hacia la Tierra!')\n",
    "elif vel_asteroide >= 20:\n",
    "    print('Nira al cielo y pide un deseo!')\n",
    "elif t_asteroide < 25:\n",
    "    print('Sigue con tu vida')\n",
    "else:\n",
    "    print('Sigue con tu vida')"
   ]
  }
 ],
 "metadata": {
  "interpreter": {
   "hash": "d84c49ad141ec5a55b1452bdb13d26d94b7aa8d03a22273d900230add5ab5816"
  },
  "kernelspec": {
   "display_name": "Python 3.10.1 64-bit",
   "language": "python",
   "name": "python3"
  },
  "language_info": {
   "codemirror_mode": {
    "name": "ipython",
    "version": 3
   },
   "file_extension": ".py",
   "mimetype": "text/x-python",
   "name": "python",
   "nbconvert_exporter": "python",
   "pygments_lexer": "ipython3",
   "version": "3.10.1"
  },
  "orig_nbformat": 4
 },
 "nbformat": 4,
 "nbformat_minor": 2
}
